{
 "cells": [
  {
   "cell_type": "markdown",
   "metadata": {},
   "source": [
    "# Linear Regression\n",
    "\n",
    "This notebook covers the following topics:\n",
    "\n",
    "- Introduction to Linear Regression\n",
    "- Simple Linear Regression\n",
    "- Generating Linear Data with Python\n",
    "- Representing Data as Vectors\n",
    "- Estimating the Least Squares Coefficients in the SLR Case\n",
    "- Bias & Variance and Consistent Estimators\n",
    "- Regression Model Accuracy Metrics\n",
    "- Ordinary Least Squares Regression in the SLR Case\n",
    "- OLS Assumptions\n",
    "- Singular Value Decomposition & The Pseudoinverse\n",
    "- Gradient Descent: An Iterative Approach"
   ]
  },
  {
   "cell_type": "markdown",
   "metadata": {},
   "source": [
    "\n",
    "# Introduction to Linear Regression\n",
    "\n",
    "Linear regression is a statistical method that is used to model the relationship between explanatory and response variables by fitting a linear equation to observed data.\n",
    "\n",
    "Mathematically, a Linear Equation is an equation of the form:\n",
    "\n",
    "$$y = \\beta_0 + \\beta_1x_1 + \\beta_2x_2+\\ldots+\\varepsilon \\tag{1}$$\n",
    "\n",
    "Where $y$ is the response variable, whose value is determined by the explanatory variables $x$ and their scalar $\\beta$ coefficients, along with an additional $\\varepsilon$ error term, which is responsible for the variablility in $y$ that cannot be explained by a linear relationship with the explanatory variables. \n",
    "\n",
    "In a typical regression problem, we have many instances of observed $(x_1, x_2, \\ldots, x_n, y)$ points, but the true $\\beta$ coefficients are unknown. Hence, we cannot use Equation (1) to compute the exact value of the response variable $y$. However, if we obtain good approximate $\\hat\\beta$ coefficients, then we can also obtain a good approximation of the true value of the response variable, $\\hat y$, for any given set of obsevations $(x_1, x_2, \\ldots, x_n)$ using the approximated $\\hat\\beta$ coefficients:\n",
    "\n",
    "$$\\hat y = \\hat\\beta_0 + \\hat\\beta_1x_1 + \\hat\\beta_2x_2+\\ldots+\\varepsilon \\tag{2}$$\n",
    "\n",
    "The goal of Linear Regression is to estimate the $\\hat\\beta$ coefficients that minimize the difference between the observed values of the response variable, $y$, and the values predicted by our approximate linear equation model, $\\hat y$. There are a number of different approaches that we can choose to calculate $\\hat\\beta$. \n",
    "\n",
    "In this notebook, we will discuss the conceptual details for various approaches for computing $\\hat\\beta$ for simple linear regression problems. These solutions generally fall into either of the two following categories:\n",
    "- Closed-form, exact solutions\n",
    "- Iterative, numerical solutions\n",
    "\n",
    "Once a solution is obtained, the performance of a model can be evaluated by metrics like the **Root Sum of Squares** ($\\text{RSS}$) and **R-Squared** ($\\mathrm{R^2}$) values."
   ]
  },
  {
   "cell_type": "code",
   "execution_count": null,
   "metadata": {
    "vscode": {
     "languageId": "plaintext"
    }
   },
   "outputs": [],
   "source": []
  }
 ],
 "metadata": {
  "kernelspec": {
   "display_name": "portfolio",
   "language": "python",
   "name": "python3"
  },
  "language_info": {
   "codemirror_mode": {
    "name": "ipython",
    "version": 3
   },
   "file_extension": ".py",
   "mimetype": "text/x-python",
   "name": "python",
   "nbconvert_exporter": "python",
   "pygments_lexer": "ipython3",
   "version": "3.8.19"
  }
 },
 "nbformat": 4,
 "nbformat_minor": 2
}
